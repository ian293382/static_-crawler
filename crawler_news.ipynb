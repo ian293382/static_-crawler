{
  "nbformat": 4,
  "nbformat_minor": 0,
  "metadata": {
    "colab": {
      "provenance": [],
      "authorship_tag": "ABX9TyNF4JEX4OVn9WFtCkUmVqC8",
      "include_colab_link": true
    },
    "kernelspec": {
      "name": "python3",
      "display_name": "Python 3"
    },
    "language_info": {
      "name": "python"
    }
  },
  "cells": [
    {
      "cell_type": "markdown",
      "metadata": {
        "id": "view-in-github",
        "colab_type": "text"
      },
      "source": [
        "<a href=\"https://colab.research.google.com/github/ian293382/static_crawler/blob/main/crawler_news.ipynb\" target=\"_parent\"><img src=\"https://colab.research.google.com/assets/colab-badge.svg\" alt=\"Open In Colab\"/></a>"
      ]
    },
    {
      "cell_type": "code",
      "execution_count": null,
      "metadata": {
        "id": "WS08iLO4y5Re"
      },
      "outputs": [],
      "source": []
    },
    {
      "cell_type": "markdown",
      "source": [
        "正則表達式\n",
        "import re\n",
        "text = 'the quick brown fox jumps over the lazy dog'\n",
        "result = re.search('fox', text)\n",
        "print(result.group(0)) #fox"
      ],
      "metadata": {
        "id": "LM2ZGUiB0Gtj"
      }
    }
  ]
}